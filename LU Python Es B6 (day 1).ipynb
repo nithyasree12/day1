{
 "cells": [
  {
   "cell_type": "code",
   "execution_count": null,
   "metadata": {},
   "outputs": [],
   "source": [
    "what is python?\n",
    "            Python is an interpreted, high-level, general-purpose programming language.\n",
    "            It is Created by Guido van Rossum and first released in 1991\n",
    "what are the ways to install python in pc?\n",
    "           1. Click Python Download\n",
    "           2. Click the Windows link(Download Python 3.7)\n",
    "           3. Click on the Download Windows(64 bit or 32bit)\n",
    "           4.Start the Installing instructions directly.\n",
    "\n",
    "what is code environment?types?\n",
    "            A code environment is a standalone and self-contained environment to run Python.\n",
    "            It is also know as r code.\n",
    "            Each code environment has its own set of packages. \n",
    "            Environments are independent.\n",
    "              *funtional programming\n",
    "              *object-oriented programming\n",
    "              *logical programming "
   ]
  }
 ],
 "metadata": {
  "kernelspec": {
   "display_name": "Python 3",
   "language": "python",
   "name": "python3"
  },
  "language_info": {
   "codemirror_mode": {
    "name": "ipython",
    "version": 3
   },
   "file_extension": ".py",
   "mimetype": "text/x-python",
   "name": "python",
   "nbconvert_exporter": "python",
   "pygments_lexer": "ipython3",
   "version": "3.7.6"
  }
 },
 "nbformat": 4,
 "nbformat_minor": 4
}
