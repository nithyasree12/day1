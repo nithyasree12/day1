{
 "cells": [
  {
   "cell_type": "code",
   "execution_count": 3,
   "metadata": {},
   "outputs": [
    {
     "name": "stdout",
     "output_type": "stream",
     "text": [
      "[3, 7, 11, 9]\n"
     ]
    }
   ],
   "source": [
    "mytuples=[(1,2),(3,4),(5,6),(4,5)]\n",
    "newlist=[]\n",
    "for a,b in mytuples:\n",
    "    sum=a+b\n",
    "    newlist.append(sum)\n",
    "print(newlist)    \n",
    " "
   ]
  },
  {
   "cell_type": "code",
   "execution_count": 7,
   "metadata": {},
   "outputs": [
    {
     "name": "stdout",
     "output_type": "stream",
     "text": [
      "keys:values\n",
      "FTP : 21\n",
      "SSH : 22\n",
      "TELNET : 23\n",
      "HTTP : 80\n"
     ]
    }
   ],
   "source": [
    "port1={21:\"FTP\",22:\"SSH\",23:\"TELNET\",80:\"HTTP\"}\n",
    "port2=dict([(value,key) for key,value in port1.items()])\n",
    "print(\"keys:values\")\n",
    "for i in port2:\n",
    "    print(i, \":\" ,port2[i])\n",
    "    "
   ]
  },
  {
   "cell_type": "code",
   "execution_count": 13,
   "metadata": {},
   "outputs": [
    {
     "name": "stdout",
     "output_type": "stream",
     "text": [
      "{'FTP': 21, 'SSH': 22, 'TELNET': 23, 'HTTP': 80},"
     ]
    }
   ],
   "source": [
    "print(port2,end =\",\")"
   ]
  },
  {
   "cell_type": "code",
   "execution_count": null,
   "metadata": {},
   "outputs": [],
   "source": []
  }
 ],
 "metadata": {
  "kernelspec": {
   "display_name": "Python 3",
   "language": "python",
   "name": "python3"
  },
  "language_info": {
   "codemirror_mode": {
    "name": "ipython",
    "version": 3
   },
   "file_extension": ".py",
   "mimetype": "text/x-python",
   "name": "python",
   "nbconvert_exporter": "python",
   "pygments_lexer": "ipython3",
   "version": "3.7.6"
  }
 },
 "nbformat": 4,
 "nbformat_minor": 4
}
