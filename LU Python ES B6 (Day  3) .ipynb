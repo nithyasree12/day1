{
 "cells": [
  {
   "cell_type": "code",
   "execution_count": 7,
   "metadata": {},
   "outputs": [
    {
     "name": "stdout",
     "output_type": "stream",
     "text": [
      "1 ==> 1\n",
      "2 ==> 3\n",
      "3 ==> 6\n",
      "4 ==> 10\n",
      "5 ==> 15\n",
      "6 ==> 21\n",
      "7 ==> 28\n",
      "8 ==> 36\n",
      "9 ==> 45\n",
      "10 ==> 55\n",
      "The sum1= 55\n"
     ]
    }
   ],
   "source": [
    "#sum of numbers\n",
    "\n",
    "n=10\n",
    "sum1=0\n",
    "a=1\n",
    "while a<=n:\n",
    "    sum1=sum1+a\n",
    "    print(a,\"==>\",sum1)\n",
    "    a=a+1\n",
    "print(\"The sum1=\",sum1)"
   ]
  },
  {
   "cell_type": "code",
   "execution_count": 19,
   "metadata": {},
   "outputs": [
    {
     "name": "stdout",
     "output_type": "stream",
     "text": [
      "13 It is prime number\n",
      "13 It is prime number\n",
      "13 It is prime number\n",
      "13 It is prime number\n",
      "13 It is prime number\n",
      "13 It is prime number\n",
      "13 It is prime number\n",
      "13 It is prime number\n",
      "13 It is not prime number\n"
     ]
    }
   ],
   "source": [
    "#prime number or not\n",
    "\n",
    "\n",
    "num=13\n",
    "if num>1:\n",
    "    for i in range(2,n):\n",
    "        if (num%i)==0:\n",
    "            print(num,\"It is not a prime number\") \n",
    "            break\n",
    "        else:\n",
    "            print(num,\"It is prime number\")\n",
    "    else:\n",
    "         print(num,\"It is not prime number\")"
   ]
  },
  {
   "cell_type": "code",
   "execution_count": null,
   "metadata": {},
   "outputs": [],
   "source": []
  },
  {
   "cell_type": "code",
   "execution_count": null,
   "metadata": {},
   "outputs": [],
   "source": []
  }
 ],
 "metadata": {
  "kernelspec": {
   "display_name": "Python 3",
   "language": "python",
   "name": "python3"
  },
  "language_info": {
   "codemirror_mode": {
    "name": "ipython",
    "version": 3
   },
   "file_extension": ".py",
   "mimetype": "text/x-python",
   "name": "python",
   "nbconvert_exporter": "python",
   "pygments_lexer": "ipython3",
   "version": "3.7.6"
  }
 },
 "nbformat": 4,
 "nbformat_minor": 4
}
